{
 "cells": [
  {
   "cell_type": "code",
   "execution_count": 21,
   "metadata": {},
   "outputs": [
    {
     "name": "stdout",
     "output_type": "stream",
     "text": [
      "26\n",
      "4\n",
      "165\n",
      "1\n",
      "4\n"
     ]
    }
   ],
   "source": [
    "#Question One\n",
    "import math\n",
    "# Collect input from the user \n",
    "a = input(\"Input a number:\")\n",
    "b = input(\"Input a number:\")\n",
    "\n",
    "#Convert data types\n",
    "a = int(a)\n",
    "b = int(b)\n",
    "\n",
    "sum_numbers = a + b \n",
    "\n",
    "diff_numbers = a - b \n",
    "\n",
    "prod_numbers = a * b \n",
    "\n",
    "quotient_numbers = a // b \n",
    "\n",
    "rem_numbers = a % b \n",
    "\n",
    "print(sum_numbers) \n",
    "print(diff_numbers)\n",
    "print(prod_numbers)\n",
    "print(quotient_numbers)\n",
    "print(rem_numbers)"
   ]
  },
  {
   "cell_type": "code",
   "execution_count": 4,
   "metadata": {},
   "outputs": [
    {
     "name": "stdout",
     "output_type": "stream",
     "text": [
      "Fuel efficiency in Canadian units 39.20166666666667 L/100\n"
     ]
    }
   ],
   "source": [
    "#Question Two\n",
    "user_input_mgp = float(input(\"Enter fuel efficiency in miles-per-gallon\"))\n",
    "\n",
    "conversion = 235.21/user_input_mgp\n",
    "print(\"Fuel efficiency in Canadian units\", conversion, \"L/100\")"
   ]
  },
  {
   "cell_type": "code",
   "execution_count": 5,
   "metadata": {},
   "outputs": [
    {
     "name": "stdout",
     "output_type": "stream",
     "text": [
      "53.4084 2.9916 48.7758 9.1829\n",
      "10513.710951892072\n"
     ]
    }
   ],
   "source": [
    "#Question Three\n",
    "import math\n",
    "#lat and long examples->\n",
    "#lat_liverpool, long_liverpool = 53.4084, 2.9916\n",
    "#lat_stuttgart, long_stuttgart = 48.7758, 9.1829\n",
    "current_country = input(\"Enter your current country: \")\n",
    "lat1 = float(input(\"Provide your current latitude: \"))\n",
    "long1 = float(input(\"Provide your current longitude: \"))\n",
    "destination_country = input(\"Enter your destination country: \")\n",
    "lat2 = float(input(\"Provide your destination latitude: \"))\n",
    "long2 = float(input(\"Provide your destination longitude: \"))\n",
    "distance = 6371.01 * math.acos(math.sin(lat1)*math.sin(lat2)+math.cos(lat1)*math.cos(lat2)*math.cos(long1-long2))\n",
    "print(lat1, long1, lat2, long2)\n",
    "print(distance)\n",
    "lat1 = math.radians(lat1)\n",
    "long1 = math.radians(long2)\n",
    "lat2 = math.radians(lat2)\n",
    "long2 = math.radians(long2)"
   ]
  },
  {
   "cell_type": "code",
   "execution_count": 6,
   "metadata": {},
   "outputs": [
    {
     "name": "stdout",
     "output_type": "stream",
     "text": [
      "150.0 feet is 1800.0 inches\n",
      "150.0 feet is 50.0 yards\n",
      "150.0 feet is 0.028409090909090908 miles\n"
     ]
    }
   ],
   "source": [
    "#Question Four - Feet into inches yards and miles\n",
    "user_feet = float(input(\"Input measurement in feet:\"))\n",
    "user_inches = user_feet * 12 \n",
    "user_yards = user_feet / 3\n",
    "user_miles = user_feet /5280\n",
    "\n",
    "\n",
    "print(f\"{user_feet} feet is {user_inches} inches\")\n",
    "print(f\"{user_feet} feet is {user_yards} yards\")\n",
    "print(f\"{user_feet} feet is {user_miles} miles\")"
   ]
  },
  {
   "cell_type": "code",
   "execution_count": 7,
   "metadata": {},
   "outputs": [
    {
     "name": "stdout",
     "output_type": "stream",
     "text": [
      "90.81781600067009\n"
     ]
    }
   ],
   "source": [
    "#Question Five - Polygon Area\n",
    "import math\n",
    "number_of_sides = int(input(\"Enter no of sides:\"))\n",
    "len_of_sides = float(input(\"Enter the len of the sides:\"))\n",
    "\n",
    "area = number_of_sides * len_of_sides ** 2 / 4 * math.tan(math.pi/number_of_sides)\n",
    "\n",
    "print(area)"
   ]
  },
  {
   "cell_type": "code",
   "execution_count": 17,
   "metadata": {},
   "outputs": [
    {
     "name": "stdout",
     "output_type": "stream",
     "text": [
      "Tue Nov 29 11:23:59 2022\n"
     ]
    }
   ],
   "source": [
    "#Question Six - current time using the import time\n",
    "\n",
    "import time\n",
    "\n",
    "t = time.localtime()\n",
    "print (time.asctime(t))"
   ]
  },
  {
   "cell_type": "code",
   "execution_count": 18,
   "metadata": {},
   "outputs": [
    {
     "name": "stdout",
     "output_type": "stream",
     "text": [
      "The wind chill index is: 11\n"
     ]
    }
   ],
   "source": [
    "#Question Seven\n",
    "# V = wind speed\n",
    "# T = Air Temp\n",
    "\n",
    "air_temp = float(input(\"Enter air temp in Celsius:\"))\n",
    "wind_speed = float(input(\"Enter wind speed in km/h:\"))\n",
    "\n",
    "wind_chill_index = round(13.12 + (0.6215*air_temp) - (11.37*wind_speed**0.16) + (0.3965*air_temp*wind_speed**0.16),)\n",
    "print(f\"The wind chill index is:\", wind_chill_index)\n",
    "\n",
    "\n",
    "\n"
   ]
  }
 ],
 "metadata": {
  "kernelspec": {
   "display_name": "Python 3.10.6 64-bit",
   "language": "python",
   "name": "python3"
  },
  "language_info": {
   "codemirror_mode": {
    "name": "ipython",
    "version": 3
   },
   "file_extension": ".py",
   "mimetype": "text/x-python",
   "name": "python",
   "nbconvert_exporter": "python",
   "pygments_lexer": "ipython3",
   "version": "3.10.6"
  },
  "orig_nbformat": 4,
  "vscode": {
   "interpreter": {
    "hash": "9f7166cd1a23adb9cedff1f33219fa47c9b77e4d73a0205ff66d44eb49c9f1ea"
   }
  }
 },
 "nbformat": 4,
 "nbformat_minor": 2
}
